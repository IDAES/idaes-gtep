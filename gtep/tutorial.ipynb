{
 "cells": [
  {
   "cell_type": "markdown",
   "metadata": {},
   "source": [
    "# IDAES-GTEP Tutorial Notebook\n",
    "### Presented & last updated 9/19/24"
   ]
  },
  {
   "cell_type": "markdown",
   "metadata": {},
   "source": [
    "This notebook is intended as an introductory tutorial to using the IDAES-GTEP tool.  It walks through loading a small test case (PJM 5-bus) and solves expansion planning models with a few different assumptions on the network.  It demonstrates some basic result visualizations on the investment options and grid operations."
   ]
  },
  {
   "cell_type": "code",
   "execution_count": 1,
   "metadata": {},
   "outputs": [
    {
     "name": "stdout",
     "output_type": "stream",
     "text": [
      "WARNING: DEPRECATED: pyomo.core.expr.current is deprecated.  Please import\n",
      "expression symbols from pyomo.core.expr  (deprecated in 6.6.2) (called from\n",
      "<frozen importlib._bootstrap>:241)\n",
      "Interactive Python mode detected; using default matplotlib backend for plotting.\n"
     ]
    }
   ],
   "source": [
    "from gtep.gtep_model import ExpansionPlanningModel\n",
    "from gtep.gtep_data import ExpansionPlanningData\n",
    "from gtep.gtep_solution import ExpansionPlanningSolution\n",
    "from pyomo.core import TransformationFactory\n",
    "from pyomo.contrib.appsi.solvers.highs import Highs"
   ]
  },
  {
   "cell_type": "markdown",
   "metadata": {},
   "source": [
    "Loads default set of representative days -- #TODO allow non defaults by Tuesday"
   ]
  },
  {
   "cell_type": "code",
   "execution_count": 3,
   "metadata": {},
   "outputs": [],
   "source": [
    "data_path = \"./data/5bus\"\n",
    "data_object = ExpansionPlanningData()\n",
    "data_object.load_prescient(data_path)"
   ]
  },
  {
   "cell_type": "markdown",
   "metadata": {},
   "source": [
    "Builds expansion planning object but not specific model yet -- #TODO note issues that can occur with num_reps too large.  Also, make config overwrite these periods for the distinct times."
   ]
  },
  {
   "cell_type": "code",
   "execution_count": null,
   "metadata": {},
   "outputs": [],
   "source": [
    "mod_object = ExpansionPlanningModel(\n",
    "    stages=1,\n",
    "    data=data_object.md,\n",
    "    num_reps=1,\n",
    "    len_reps=1,\n",
    "    num_commit=24,\n",
    "    num_dispatch=4,\n",
    ")"
   ]
  },
  {
   "cell_type": "code",
   "execution_count": null,
   "metadata": {},
   "outputs": [],
   "source": [
    "mod_object.create_model()"
   ]
  },
  {
   "cell_type": "code",
   "execution_count": null,
   "metadata": {},
   "outputs": [],
   "source": [
    "TransformationFactory(\"gdp.bound_pretransformation\").apply_to(mod_object.model)\n",
    "TransformationFactory(\"gdp.bigm\").apply_to(mod_object.model)"
   ]
  },
  {
   "cell_type": "code",
   "execution_count": null,
   "metadata": {},
   "outputs": [],
   "source": [
    "opt = Highs()\n",
    "mod_object.results = opt.solve(mod_object.model)"
   ]
  },
  {
   "cell_type": "markdown",
   "metadata": {},
   "source": [
    "#TODO -- demonstrate capabilities to save & load solution info"
   ]
  },
  {
   "cell_type": "code",
   "execution_count": null,
   "metadata": {},
   "outputs": [],
   "source": [
    "sol_object = ExpansionPlanningSolution()\n",
    "sol_object.load_from_model(mod_object)\n",
    "sol_object.dump_json(\"./gtep_solution.json\")\n",
    "sol_object.import_data_object(data_object)\n",
    "sol_object.plot_levels(save_dir=\"./plots/\")"
   ]
  }
 ],
 "metadata": {
  "kernelspec": {
   "display_name": "idaes",
   "language": "python",
   "name": "python3"
  },
  "language_info": {
   "codemirror_mode": {
    "name": "ipython",
    "version": 3
   },
   "file_extension": ".py",
   "mimetype": "text/x-python",
   "name": "python",
   "nbconvert_exporter": "python",
   "pygments_lexer": "ipython3",
   "version": "3.10.4"
  }
 },
 "nbformat": 4,
 "nbformat_minor": 2
}
